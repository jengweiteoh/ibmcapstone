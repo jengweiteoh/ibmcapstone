{
    "cells": [
        {
            "cell_type": "markdown",
            "metadata": {
                "collapsed": true
            },
            "source": "### Assignment - Segmenting and Clustering of Neighborhoods in Toronto, Canada"
        },
        {
            "cell_type": "markdown",
            "metadata": {},
            "source": "### Step 1 - Web scrapping"
        },
        {
            "cell_type": "markdown",
            "metadata": {},
            "source": "#### Import library\n"
        },
        {
            "cell_type": "code",
            "execution_count": 1,
            "metadata": {},
            "outputs": [],
            "source": "from urllib.request import urlopen\nfrom bs4 import BeautifulSoup\nimport pandas as pd"
        },
        {
            "cell_type": "markdown",
            "metadata": {},
            "source": "#### Parse data from url"
        },
        {
            "cell_type": "code",
            "execution_count": 10,
            "metadata": {},
            "outputs": [],
            "source": "# Get html text from wikipedia\nurl = 'https://en.wikipedia.org/wiki/List_of_postal_codes_of_Canada:_M'\npage = urlopen(url)\nhtml_bytes = page.read()\nhtml = html_bytes.decode(\"utf-8\")\n      \nsoup = BeautifulSoup(html, 'html.parser')\n#print(soup.prettify())"
        },
        {
            "cell_type": "code",
            "execution_count": 11,
            "metadata": {
                "scrolled": true
            },
            "outputs": [],
            "source": "# Instantiate a empty list: data\ndata = []\n\n# Locate table within the html text\ntable = soup.find('table', attrs={'class':'wikitable sortable'})\ntable_body = table.find('tbody')\n\n# Find column names of the table\ncol_names = table_body.find_all('th')\ncol_names = [ele.text.strip() for ele in col_names]\n\n# Get data for all rows in the table and append to list\nrows = table_body.find_all('tr')\nfor row in rows:\n    cols = row.find_all('td')\n    cols = [ele.text.strip() for ele in cols]\n    data.append([ele for ele in cols if ele]) # Get rid of empty values\n    "
        },
        {
            "cell_type": "markdown",
            "metadata": {},
            "source": "#### Create Dataframe containing neighbourhood info in Toronto"
        },
        {
            "cell_type": "code",
            "execution_count": 12,
            "metadata": {},
            "outputs": [
                {
                    "name": "stdout",
                    "output_type": "stream",
                    "text": "  Postal Code           Borough                                Neighbourhood\n0         M3A        North York                                    Parkwoods\n1         M4A        North York                             Victoria Village\n2         M5A  Downtown Toronto                    Regent Park, Harbourfront\n3         M6A        North York             Lawrence Manor, Lawrence Heights\n4         M7A  Downtown Toronto  Queen's Park, Ontario Provincial Government\n"
                }
            ],
            "source": "## Convert list into Dataframe object\ndf_toronto = pd.DataFrame(data, columns=col_names)\n\n## Remove rows with None (first row) and Not assigned borough\ndf_toronto = df_toronto.loc[1:,:]\ndf_toronto = df_toronto[df_toronto['Borough']!='Not assigned'].reset_index(drop=True)\n\n## Assign borough name to neighbourhood which are not assigned any name\nfor i in range (df_toronto.shape[0]):\n    if (df_toronto.loc[i,'Neighbourhood'] == 'Not assigned'):\n        df_toronto.loc[i,'Neighbourhood'] = df_toronto.loc[i,'Borough']\n\nprint(df_toronto.head())\n"
        },
        {
            "cell_type": "code",
            "execution_count": 13,
            "metadata": {},
            "outputs": [
                {
                    "name": "stdout",
                    "output_type": "stream",
                    "text": "(103, 3)\n"
                }
            ],
            "source": "print(df_toronto.shape)"
        },
        {
            "cell_type": "code",
            "execution_count": null,
            "metadata": {},
            "outputs": [],
            "source": ""
        }
    ],
    "metadata": {
        "kernelspec": {
            "display_name": "Python 3.7",
            "language": "python",
            "name": "python3"
        },
        "language_info": {
            "codemirror_mode": {
                "name": "ipython",
                "version": 3
            },
            "file_extension": ".py",
            "mimetype": "text/x-python",
            "name": "python",
            "nbconvert_exporter": "python",
            "pygments_lexer": "ipython3",
            "version": "3.7.9"
        }
    },
    "nbformat": 4,
    "nbformat_minor": 1
}