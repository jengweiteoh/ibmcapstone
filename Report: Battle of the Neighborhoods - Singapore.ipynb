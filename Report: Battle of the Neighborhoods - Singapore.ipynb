{
    "cells": [
        {
            "cell_type": "markdown",
            "metadata": {
                "collapsed": true
            },
            "source": "# Data Science Capstone Project "
        },
        {
            "cell_type": "markdown",
            "metadata": {},
            "source": "# Battle of the Neighborhoods - Singapore: Easties vs Westies "
        },
        {
            "cell_type": "markdown",
            "metadata": {},
            "source": "## Problem Statement"
        },
        {
            "cell_type": "markdown",
            "metadata": {},
            "source": "Which region is the better region in Singapore to live in? Is it the East region or the West region? \n\nFor someone who is looking to purchase and move into a new home in singapore, can we recommend a region for him/her based on his/her personal preferences?"
        },
        {
            "cell_type": "markdown",
            "metadata": {},
            "source": "## Background "
        },
        {
            "cell_type": "markdown",
            "metadata": {},
            "source": "Singaporeans have always been debated over this topic of whether the East region or the West region of Singapore is the better one to live in for years. This debate is termed the \"Easties vs Westies\" and is usually over attributes of the neighborhoods in the East and West regions of Singapore, such as the number of food options, the number of amenities, the accessibility to key points of interest, etc.\n"
        },
        {
            "cell_type": "markdown",
            "metadata": {},
            "source": "## Methodology"
        },
        {
            "cell_type": "markdown",
            "metadata": {},
            "source": "### 1. Data Collection\nData requirements and data sources for this project:\n- Name, coordinates and area of the neighborhoods in the West and East regions of Singapore (to be obtained via web scrapping)\n- Name and categories of venues in each of the neighborhoods (to be obtained using Fourquare API)\n\n### 2. Data Cleaning and Manipulation\n- Neighborhoods with small or missing population values should be removed from analysis\n- Information on the neighborhoods in the West and East region is required as input to the Foursquare API\n- Output of the API call will then give us a list of venues and the corresponding category for each venue\n- One hot encode venue data (as it is categorical data) and group the venues based on the neighborhood to calculate the profile of the neighborhood (weightage of each category in the neighborhood) to create dataset for model training \n\n### 3. Model Selection and Training\n- Clustering algorithm should be used as dataset is not labelled and we want to group neighborhoods based on the extent of similiarity between them.\n- Algorithm selected is k-means clustering. Number of clusters to be determined based on intermediate results"
        },
        {
            "cell_type": "markdown",
            "metadata": {},
            "source": "## Results: Observations and Discussion"
        },
        {
            "cell_type": "markdown",
            "metadata": {},
            "source": "#### Interesting observations\nObservation 1: Neighborhoods in both regions closer to the city (central area) are similar to each other as visualised by the purple (cluster 1), red (cluster 0) and blue (cluster 2) markers on the map\\\nObservation 2: Neighborhoods that are on the extreme ends of Singapore are very unique in nature.\n\n#### Based on the coordinates of the neighborhoods within each cluster as well as the top 10 most common venue categories in each cluster, we can describe each of the cluster as such: \nCluster 0 (Red): Neighborhoods with huge variety of restaurants \\\nCluster 1 (Purple): Neighborhoods with good bus network accessibility and good variety of restaurants and cafe\\\nCluster 2 (Blue): Neighborhoods with a well-balanced profile of food establishments and outdoor facilities\\\nCluster 3 (Cyan): Neighborhoods with military-related facilities and furniture stores in close proximity, but with limited food options\\\nCluster 4 (Green): Neighborhoods with cheap food options and great accessibility to gas stations\\\nCluster 5 (Orange): Neighborhoods with the airport in close proximity\n\n#### Back to the problem statement - Which region is the better region in Singapore to live in? Is it the East region or the West region?\nBased on the cluster descriptions, it seems that the East region is a more comfortable place to live in, as it contains clusters 0,1,2 and 5 which means great accessbility to restaurants, cafes,outdoor facilities as well as the international airport. Whilst the West region of Singapore contains clusters 0,1 and 2 which also means that the people living in the West region do also have great accessibility to restaurants, cafes and outdoor facilities, the region also contains clusters 3 and 4 which seem to be highly industrialised and militarised areas. These areas are likely to have higher levels of air pollution and noise pollution, potentially resulting in poorer quality of life for people living in the neighborhoods in the West Region, albeit with varying extents depending on the proximity of the neighborhoods to these areas. \n\nBased on the data used in this project, I would recommend the East region to be the better region to live in. Within the east region, the choice of neighborhood then depends on one's personal preferences. For example, someone who likes cafe-hopping should live in Bedok, while someone who is a frequent flyer should live in Changi."
        },
        {
            "cell_type": "markdown",
            "metadata": {},
            "source": "## Conclusion"
        },
        {
            "cell_type": "markdown",
            "metadata": {},
            "source": "In conclusion, this report sets out to answer the question 'Which region is the better region in Singapore to live in? Is it the East region or the West region?' by using a dataset that is a combination of coordinates data from Wikipedia and location data from Foursquare API. Using the location data on nearby venues, we were able to do identify the venue categories and the associated weightage of each venue category for each neighborhood. k-means clustering algorithm with a n_cluster of 6 was then employed for on the dataset containing the weightage of each venue category, resulting in 6 clusters of neighborhoods. Upon the visualization of the clustering on the folium map as well as deep diving into the characteristics of each cluster, we were able to gain key observations and insights into the neighborhoods. \n\nBased on the data used in this notebook, the East region seems to be the better region to live in. Within the east region, the choice of neighborhood then depends on one's personal preferences. Note that this conclusion is done on a limited dataset containing only location data. To provide a more holistic analysis, we would need more data such as housing prices, temperature, humidity, google ratings, etc. This will provide the clustering algorithms with more features to work with, which should give us a fuller picture when answering the problem statement."
        },
        {
            "cell_type": "code",
            "execution_count": null,
            "metadata": {},
            "outputs": [],
            "source": ""
        }
    ],
    "metadata": {
        "kernelspec": {
            "display_name": "Python 3.7",
            "language": "python",
            "name": "python3"
        },
        "language_info": {
            "codemirror_mode": {
                "name": "ipython",
                "version": 3
            },
            "file_extension": ".py",
            "mimetype": "text/x-python",
            "name": "python",
            "nbconvert_exporter": "python",
            "pygments_lexer": "ipython3",
            "version": "3.7.9"
        }
    },
    "nbformat": 4,
    "nbformat_minor": 1
}